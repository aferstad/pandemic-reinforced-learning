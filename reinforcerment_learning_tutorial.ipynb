{
 "cells": [
  {
   "cell_type": "code",
   "execution_count": null,
   "metadata": {},
   "outputs": [],
   "source": []
  },
  {
   "cell_type": "code",
   "execution_count": 35,
   "metadata": {
    "ExecuteTime": {
     "end_time": "2020-07-14T11:17:51.711581Z",
     "start_time": "2020-07-14T11:17:45.757191Z"
    }
   },
   "outputs": [],
   "source": [
    "import numpy as np\n",
    "import tensorflow.keras.backend as backend\n",
    "\n",
    "from tensorflow.keras.models import Sequential\n",
    "from tensorflow.keras.layers import Dense, Dropout, Conv2D, MaxPooling2D, Activation, Flatten\n",
    "from tensorflow.keras.optimizers import Adam\n",
    "from tensorflow.keras.callbacks import TensorBoard\n",
    "import tensorflow as tf\n",
    "from collections import deque\n",
    "import time\n",
    "import random\n",
    "from tqdm import tqdm\n",
    "import os\n",
    "import cv2\n"
   ]
  },
  {
   "cell_type": "code",
   "execution_count": null,
   "metadata": {},
   "outputs": [],
   "source": []
  },
  {
   "cell_type": "code",
   "execution_count": 20,
   "metadata": {
    "ExecuteTime": {
     "end_time": "2020-07-14T11:10:58.398250Z",
     "start_time": "2020-07-14T11:10:51.906132Z"
    }
   },
   "outputs": [
    {
     "ename": "ModuleNotFoundError",
     "evalue": "No module named 'keras.backend.tensorflow_backend'; 'keras.backend' is not a package",
     "output_type": "error",
     "traceback": [
      "\u001b[0;31m---------------------------------------------------------------------------\u001b[0m",
      "\u001b[0;31mModuleNotFoundError\u001b[0m                       Traceback (most recent call last)",
      "\u001b[0;32m<ipython-input-20-9bf79d7fbe88>\u001b[0m in \u001b[0;36m<module>\u001b[0;34m\u001b[0m\n\u001b[1;32m      1\u001b[0m \u001b[0;32mimport\u001b[0m \u001b[0mnumpy\u001b[0m \u001b[0;32mas\u001b[0m \u001b[0mnp\u001b[0m\u001b[0;34m\u001b[0m\u001b[0;34m\u001b[0m\u001b[0m\n\u001b[0;32m----> 2\u001b[0;31m \u001b[0;32mimport\u001b[0m \u001b[0mkeras\u001b[0m\u001b[0;34m.\u001b[0m\u001b[0mbackend\u001b[0m\u001b[0;34m.\u001b[0m\u001b[0mtensorflow_backend\u001b[0m \u001b[0;32mas\u001b[0m \u001b[0mbackend\u001b[0m\u001b[0;34m\u001b[0m\u001b[0;34m\u001b[0m\u001b[0m\n\u001b[0m\u001b[1;32m      3\u001b[0m \u001b[0;32mfrom\u001b[0m \u001b[0mkeras\u001b[0m\u001b[0;34m.\u001b[0m\u001b[0mmodels\u001b[0m \u001b[0;32mimport\u001b[0m \u001b[0mSequential\u001b[0m\u001b[0;34m\u001b[0m\u001b[0;34m\u001b[0m\u001b[0m\n\u001b[1;32m      4\u001b[0m \u001b[0;32mfrom\u001b[0m \u001b[0mkeras\u001b[0m\u001b[0;34m.\u001b[0m\u001b[0mlayers\u001b[0m \u001b[0;32mimport\u001b[0m \u001b[0mDense\u001b[0m\u001b[0;34m,\u001b[0m \u001b[0mDropout\u001b[0m\u001b[0;34m,\u001b[0m \u001b[0mConv2D\u001b[0m\u001b[0;34m,\u001b[0m \u001b[0mMaxPooling2D\u001b[0m\u001b[0;34m,\u001b[0m \u001b[0mActivation\u001b[0m\u001b[0;34m,\u001b[0m \u001b[0mFlatten\u001b[0m\u001b[0;34m\u001b[0m\u001b[0;34m\u001b[0m\u001b[0m\n\u001b[1;32m      5\u001b[0m \u001b[0;32mfrom\u001b[0m \u001b[0mkeras\u001b[0m\u001b[0;34m.\u001b[0m\u001b[0moptimizers\u001b[0m \u001b[0;32mimport\u001b[0m \u001b[0mAdam\u001b[0m\u001b[0;34m\u001b[0m\u001b[0;34m\u001b[0m\u001b[0m\n",
      "\u001b[0;31mModuleNotFoundError\u001b[0m: No module named 'keras.backend.tensorflow_backend'; 'keras.backend' is not a package"
     ]
    }
   ],
   "source": [
    "import numpy as np\n",
    "import keras.backend.tensorflow_backend as backend\n",
    "from keras.models import Sequential\n",
    "from keras.layers import Dense, Dropout, Conv2D, MaxPooling2D, Activation, Flatten\n",
    "from keras.optimizers import Adam\n",
    "from keras.callbacks import TensorBoard\n",
    "import tensorflow as tf\n",
    "from collections import deque\n",
    "import time\n",
    "import random\n",
    "from tqdm import tqdm\n",
    "import os\n",
    "from PIL import Image\n",
    "import cv2"
   ]
  },
  {
   "cell_type": "code",
   "execution_count": 27,
   "metadata": {
    "ExecuteTime": {
     "end_time": "2020-07-14T11:13:35.422420Z",
     "start_time": "2020-07-14T11:13:35.419758Z"
    }
   },
   "outputs": [],
   "source": [
    "import tensorflow.keras.backend as backend"
   ]
  },
  {
   "cell_type": "code",
   "execution_count": 22,
   "metadata": {
    "ExecuteTime": {
     "end_time": "2020-07-14T11:11:40.654174Z",
     "start_time": "2020-07-14T11:11:39.760451Z"
    }
   },
   "outputs": [
    {
     "name": "stdout",
     "output_type": "stream",
     "text": [
      "\u001b[31mERROR: Could not find a version that satisfies the requirement keras.backend (from versions: none)\u001b[0m\n",
      "\u001b[31mERROR: No matching distribution found for keras.backend\u001b[0m\n",
      "Note: you may need to restart the kernel to use updated packages.\n"
     ]
    }
   ],
   "source": [
    "%pip install keras.backend"
   ]
  },
  {
   "cell_type": "code",
   "execution_count": 24,
   "metadata": {
    "ExecuteTime": {
     "end_time": "2020-07-14T11:12:53.688429Z",
     "start_time": "2020-07-14T11:12:53.677750Z"
    }
   },
   "outputs": [
    {
     "data": {
      "text/plain": [
       "<module 'tensorflow.keras' from '/Library/Frameworks/Python.framework/Versions/3.8/lib/python3.8/site-packages/tensorflow/keras/__init__.py'>"
      ]
     },
     "execution_count": 24,
     "metadata": {},
     "output_type": "execute_result"
    }
   ],
   "source": [
    "tf.keras.backend"
   ]
  },
  {
   "cell_type": "code",
   "execution_count": 15,
   "metadata": {
    "ExecuteTime": {
     "end_time": "2020-07-13T16:09:53.177456Z",
     "start_time": "2020-07-13T16:09:53.174916Z"
    }
   },
   "outputs": [],
   "source": [
    "import gym\n",
    "import numpy as np"
   ]
  },
  {
   "cell_type": "code",
   "execution_count": 10,
   "metadata": {
    "ExecuteTime": {
     "end_time": "2020-07-13T15:58:38.428822Z",
     "start_time": "2020-07-13T15:58:38.421560Z"
    }
   },
   "outputs": [
    {
     "name": "stdout",
     "output_type": "stream",
     "text": [
      "[0.6  0.07]\n",
      "[-1.2  -0.07]\n",
      "3\n"
     ]
    }
   ],
   "source": [
    "env = gym.make(\"MountainCar-v0\")\n",
    "env.reset()\n",
    "\n",
    "print(env.observation_space.high)\n",
    "print(env.observation_space.low)\n",
    "print(env.action_space.n)"
   ]
  },
  {
   "cell_type": "code",
   "execution_count": 19,
   "metadata": {
    "ExecuteTime": {
     "end_time": "2020-07-13T16:12:25.967563Z",
     "start_time": "2020-07-13T16:12:25.962497Z"
    }
   },
   "outputs": [
    {
     "data": {
      "text/plain": [
       "(20, 20, 3)"
      ]
     },
     "execution_count": 19,
     "metadata": {},
     "output_type": "execute_result"
    }
   ],
   "source": [
    "q_table = np.random.uniform(\n",
    "    low=-2,\n",
    "    high=0,\n",
    "    size = (DISCRETE_OS_SIZE+[env.action_space.n]))\n",
    "q_table.shape"
   ]
  },
  {
   "cell_type": "code",
   "execution_count": 12,
   "metadata": {
    "ExecuteTime": {
     "end_time": "2020-07-13T16:04:52.477878Z",
     "start_time": "2020-07-13T16:04:52.466042Z"
    }
   },
   "outputs": [
    {
     "data": {
      "text/plain": [
       "array([0.09 , 0.007])"
      ]
     },
     "execution_count": 12,
     "metadata": {},
     "output_type": "execute_result"
    }
   ],
   "source": [
    "DISCRETE_OS_SIZE = [20] * len(env.observation_space.high)\n",
    "discrete_os_win_size = (env.observation_space.high - env.observation_space.low) / DISCRETE_OS_SIZE\n",
    "discrete_os_win_size"
   ]
  },
  {
   "cell_type": "code",
   "execution_count": 8,
   "metadata": {
    "ExecuteTime": {
     "end_time": "2020-07-13T15:56:31.776854Z",
     "start_time": "2020-07-13T15:56:28.369841Z"
    }
   },
   "outputs": [
    {
     "name": "stdout",
     "output_type": "stream",
     "text": [
      "[-4.45950038e-01  4.25996249e-04]\n",
      "[-0.44510115  0.00084888]\n",
      "[-0.44383558  0.00126558]\n",
      "[-0.44216253  0.00167305]\n",
      "[-0.4400942   0.00206833]\n",
      "[-0.43764562  0.00244858]\n",
      "[-0.43483457  0.00281105]\n",
      "[-0.43168141  0.00315316]\n",
      "[-0.42820893  0.00347248]\n",
      "[-0.42444215  0.00376678]\n",
      "[-0.42040812  0.00403403]\n",
      "[-0.41613572  0.0042724 ]\n",
      "[-0.41165541  0.00448032]\n",
      "[-0.40699897  0.00465643]\n",
      "[-0.40219931  0.00479966]\n",
      "[-0.39729015  0.00490916]\n",
      "[-0.3923058   0.00498435]\n",
      "[-0.38728088  0.00502492]\n",
      "[-0.38225009  0.0050308 ]\n",
      "[-0.37724792  0.00500217]\n",
      "[-0.37230846  0.00493946]\n",
      "[-0.36746512  0.00484334]\n",
      "[-0.36275043  0.00471469]\n",
      "[-0.35819582  0.0045546 ]\n",
      "[-0.35383146  0.00436437]\n",
      "[-0.34968601  0.00414545]\n",
      "[-0.34578653  0.00389948]\n",
      "[-0.3421583   0.00362824]\n",
      "[-0.33882465  0.00333364]\n",
      "[-0.33580693  0.00301773]\n",
      "[-0.33312431  0.00268262]\n",
      "[-0.33079377  0.00233054]\n",
      "[-0.32882997  0.0019638 ]\n",
      "[-0.32724522  0.00158475]\n",
      "[-0.32604943  0.0011958 ]\n",
      "[-0.32525003  0.0007994 ]\n",
      "[-0.324852    0.00039803]\n",
      "[-3.24857809e-01 -5.80908452e-06]\n",
      "[-0.32526742 -0.00040961]\n",
      "[-0.32607829 -0.00081087]\n",
      "[-0.32728538 -0.00120709]\n",
      "[-0.32888117 -0.00159579]\n",
      "[-0.3308557  -0.00197452]\n",
      "[-0.33319657 -0.00234088]\n",
      "[-0.33588907 -0.0026925 ]\n",
      "[-0.33891615 -0.00302708]\n",
      "[-0.34225857 -0.00334242]\n",
      "[-0.34589494 -0.00363637]\n",
      "[-0.34980185 -0.00390691]\n",
      "[-0.35395397 -0.00415212]\n",
      "[-0.35832421 -0.00437024]\n",
      "[-0.36288384 -0.00455963]\n",
      "[-0.36760268 -0.00471883]\n",
      "[-0.37244924 -0.00484656]\n",
      "[-0.37739097 -0.00494173]\n",
      "[-0.38239444 -0.00500347]\n",
      "[-0.38742555 -0.00503111]\n",
      "[-0.39244979 -0.00502424]\n",
      "[-0.39743246 -0.00498267]\n",
      "[-0.40233895 -0.00490649]\n",
      "[-0.40713496 -0.00479601]\n",
      "[-0.41178679 -0.00465183]\n",
      "[-0.41626156 -0.00447478]\n",
      "[-0.42052753 -0.00426597]\n",
      "[-0.42455427 -0.00402674]\n",
      "[-0.42831297 -0.00375869]\n",
      "[-0.43177661 -0.00346364]\n",
      "[-0.43492024 -0.00314363]\n",
      "[-0.43772114 -0.0028009 ]\n",
      "[-0.44015903 -0.00243788]\n",
      "[-0.4422162  -0.00205717]\n",
      "[-0.44387769 -0.00166149]\n",
      "[-0.4451314  -0.00125372]\n",
      "[-0.44596821 -0.0008368 ]\n",
      "[-4.46381987e-01 -4.13781310e-04]\n",
      "[-4.46369729e-01  1.22583944e-05]\n",
      "[-4.45931520e-01  4.38208617e-04]\n",
      "[-0.44507056  0.00086096]\n",
      "[-0.44379313  0.00127743]\n",
      "[-0.44210854  0.00168459]\n",
      "[-0.44002905  0.00207948]\n",
      "[-0.4375698   0.00245926]\n",
      "[-0.43474862  0.00282118]\n",
      "[-0.43158595  0.00316267]\n",
      "[-0.42810465  0.0034813 ]\n",
      "[-0.4243298   0.00377485]\n",
      "[-0.42028851  0.00404129]\n",
      "[-0.41600971  0.00427881]\n",
      "[-0.41152388  0.00448583]\n",
      "[-0.40686287  0.00466101]\n",
      "[-0.40205958  0.00480328]\n",
      "[-0.39714778  0.0049118 ]\n",
      "[-0.39216178  0.004986  ]\n",
      "[-0.38713621  0.00502557]\n",
      "[-0.38210576  0.00503045]\n",
      "[-0.37710492  0.00500084]\n",
      "[-0.37216776  0.00493716]\n",
      "[-0.36732767  0.00484009]\n",
      "[-0.36261714  0.00471052]\n",
      "[-0.35806759  0.00454955]\n",
      "[-0.35370912  0.00435847]\n",
      "[-0.34957038  0.00413875]\n",
      "[-0.34567835  0.00389202]\n",
      "[-0.34205827  0.00362009]\n",
      "[-0.33873342  0.00332485]\n",
      "[-0.33572506  0.00300835]\n",
      "[-0.33305234  0.00267272]\n",
      "[-0.33073214  0.0023202 ]\n",
      "[-0.32877908  0.00195307]\n",
      "[-0.32720538  0.00157369]\n",
      "[-0.32602089  0.0011845 ]\n",
      "[-0.32523297  0.00078792]\n",
      "[-0.32484653  0.00038645]\n",
      "[-3.24863952e-01 -1.74272238e-05]\n",
      "[-0.32528514 -0.00042119]\n",
      "[-0.32610749 -0.00082234]\n",
      "[-0.32732586 -0.00121838]\n",
      "[-0.32893269 -0.00160683]\n",
      "[-0.33091793 -0.00198524]\n",
      "[-0.33326913 -0.0023512 ]\n",
      "[-0.33597149 -0.00270236]\n",
      "[-0.33900791 -0.00303643]\n",
      "[-0.34235909 -0.00335117]\n",
      "[-0.34600357 -0.00364448]\n",
      "[-0.34991789 -0.00391432]\n",
      "[-0.35407666 -0.00415878]\n",
      "[-0.35845276 -0.00437609]\n",
      "[-0.36301739 -0.00456464]\n",
      "[-0.36774034 -0.00472295]\n",
      "[-0.3725901  -0.00484976]\n",
      "[-0.37753408 -0.00494398]\n",
      "[-0.38253882 -0.00500474]\n",
      "[-0.38757021 -0.0050314 ]\n",
      "[-0.39259374 -0.00502353]\n",
      "[-0.39757471 -0.00498097]\n",
      "[-0.4024785  -0.00490379]\n",
      "[-0.40727083 -0.00479233]\n",
      "[-0.41191802 -0.00464719]\n",
      "[-0.41638724 -0.00446921]\n",
      "[-0.42064674 -0.00425951]\n",
      "[-0.42466618 -0.00401943]\n",
      "[-0.42841676 -0.00375058]\n",
      "[-0.43187154 -0.00345478]\n",
      "[-0.43500563 -0.00313409]\n",
      "[-0.43779637 -0.00279074]\n",
      "[-0.44022355 -0.00242718]\n",
      "[-0.44226954 -0.00204599]\n",
      "[-0.44391946 -0.00164993]\n",
      "[-0.44516131 -0.00124185]\n",
      "[-0.44598602 -0.00082471]\n",
      "[-4.46387588e-01 -4.01563875e-04]\n",
      "[-4.46363071e-01  2.45167149e-05]\n",
      "[-0.44591265  0.00045042]\n",
      "[-0.44503962  0.00087303]\n",
      "[-0.44375034  0.00128928]\n",
      "[-0.44205422  0.00169613]\n",
      "[-0.43996359  0.00209062]\n",
      "[-0.43749367  0.00246992]\n",
      "[-0.43466238  0.00283129]\n",
      "[-0.43149023  0.00317215]\n",
      "[-0.42800013  0.0034901 ]\n",
      "[-0.42421724  0.0037829 ]\n",
      "[-0.42016871  0.00404853]\n",
      "[-0.41588352  0.00428519]\n",
      "[-0.41139221  0.00449131]\n",
      "[-0.40672664  0.00466557]\n",
      "[-0.40191977  0.00480687]\n",
      "[-0.39700535  0.00491441]\n",
      "[-0.39201773  0.00498762]\n",
      "[-0.38699153  0.0050262 ]\n",
      "[-0.38196145  0.00503008]\n",
      "[-0.37696197  0.00499948]\n",
      "[-0.37202714  0.00493483]\n",
      "[-0.36719032  0.00483682]\n",
      "[-0.36248399  0.00470633]\n",
      "[-0.35793952  0.00454447]\n",
      "[-0.35358697  0.00435254]\n",
      "[-0.34945495  0.00413202]\n",
      "[-0.3455704   0.00388455]\n",
      "[-0.34195848  0.00361192]\n",
      "[-0.33864244  0.00331604]\n",
      "[-0.33564348  0.00299896]\n",
      "[-0.33298066  0.00266282]\n",
      "[-0.33067082  0.00230984]\n",
      "[-0.3287285   0.00194232]\n",
      "[-0.32716587  0.00156263]\n",
      "[-0.32599268  0.00117319]\n",
      "[-0.32521624  0.00077644]\n",
      "[-0.32484138  0.00037486]\n",
      "[-3.24870429e-01 -2.90452737e-05]\n",
      "[-0.3253032  -0.00043277]\n",
      "[-0.32613701 -0.00083381]\n",
      "[-0.32736667 -0.00122966]\n",
      "[-0.32898452 -0.00161785]\n",
      "[-0.33098046 -0.00199594]\n",
      "[-0.33334197 -0.00236151]\n",
      "[-0.33605418 -0.00271221]\n",
      "[-0.33909993 -0.00304575]\n",
      "[-0.34245985 -0.00335991]\n",
      "[-0.34611242 -0.00365257]\n"
     ]
    }
   ],
   "source": [
    "env = gym.make(\"MountainCar-v0\")\n",
    "env.reset()\n",
    "\n",
    "print(env.observation_space.high)\n",
    "print(env.observation_space.low)\n",
    "print(env.action.n)\n",
    "\n",
    "\n",
    "done = False\n",
    "while not done:\n",
    "    action = 2\n",
    "    new_state, reward, done, _ = env.step(action)\n",
    "    print(new_state)\n",
    "    env.render()\n",
    "env.close()"
   ]
  },
  {
   "cell_type": "code",
   "execution_count": null,
   "metadata": {},
   "outputs": [],
   "source": []
  }
 ],
 "metadata": {
  "hide_input": false,
  "kernelspec": {
   "display_name": "Python 3",
   "language": "python",
   "name": "python3"
  },
  "language_info": {
   "codemirror_mode": {
    "name": "ipython",
    "version": 3
   },
   "file_extension": ".py",
   "mimetype": "text/x-python",
   "name": "python",
   "nbconvert_exporter": "python",
   "pygments_lexer": "ipython3",
   "version": "3.8.0"
  },
  "varInspector": {
   "cols": {
    "lenName": 16,
    "lenType": 16,
    "lenVar": 40
   },
   "kernels_config": {
    "python": {
     "delete_cmd_postfix": "",
     "delete_cmd_prefix": "del ",
     "library": "var_list.py",
     "varRefreshCmd": "print(var_dic_list())"
    },
    "r": {
     "delete_cmd_postfix": ") ",
     "delete_cmd_prefix": "rm(",
     "library": "var_list.r",
     "varRefreshCmd": "cat(var_dic_list()) "
    }
   },
   "types_to_exclude": [
    "module",
    "function",
    "builtin_function_or_method",
    "instance",
    "_Feature"
   ],
   "window_display": false
  }
 },
 "nbformat": 4,
 "nbformat_minor": 4
}
